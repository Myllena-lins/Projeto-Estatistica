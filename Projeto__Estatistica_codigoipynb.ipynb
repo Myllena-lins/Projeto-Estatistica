{
  "nbformat": 4,
  "nbformat_minor": 0,
  "metadata": {
    "colab": {
      "provenance": [],
      "authorship_tag": "ABX9TyMnaytc1VkVDS3SfcH1sRNS",
      "include_colab_link": true
    },
    "kernelspec": {
      "name": "python3",
      "display_name": "Python 3"
    },
    "language_info": {
      "name": "python"
    }
  },
  "cells": [
    {
      "cell_type": "markdown",
      "metadata": {
        "id": "view-in-github",
        "colab_type": "text"
      },
      "source": [
        "<a href=\"https://colab.research.google.com/github/Myllena-lins/Projeto-Estatistica/blob/main/Projeto__Estatistica_codigoipynb.ipynb\" target=\"_parent\"><img src=\"https://colab.research.google.com/assets/colab-badge.svg\" alt=\"Open In Colab\"/></a>"
      ]
    },
    {
      "cell_type": "markdown",
      "source": [
        "#**Base das Análises**\n",
        "Só contém os códigos"
      ],
      "metadata": {
        "id": "RDK9WT46yuI4"
      }
    },
    {
      "cell_type": "code",
      "source": [
        "import pandas as pd\n",
        "import matplotlib.pyplot as plt\n",
        "from matplotlib.ticker import FuncFormatter"
      ],
      "metadata": {
        "id": "6O2-BGgpyt0o"
      },
      "execution_count": null,
      "outputs": []
    },
    {
      "cell_type": "code",
      "source": [
        "#Carregando arquivos que serão explorados\n",
        "df_covid_2020 = pd.read_csv(\"cases-brazil-cities-time_2020.csv\")\n",
        "df_covid_2021 = pd.read_csv(\"cases-brazil-cities-time_2021.csv\")\n",
        "df_covid_2022 = pd.read_csv(\"cases-brazil-cities-time_2022.csv\")\n",
        "df_covid_2023 = pd.read_csv(\"cases-brazil-cities-time_2023.csv\")"
      ],
      "metadata": {
        "id": "7rJCRBS9y9jY"
      },
      "execution_count": null,
      "outputs": []
    },
    {
      "cell_type": "code",
      "source": [
        "#Verificando se há valores ausentes\n",
        "print(df_covid_2020.isnull().sum())\n",
        "print(df_covid_2021.isnull().sum())\n",
        "print(df_covid_2022.isnull().sum())\n",
        "print(df_covid_2023.isnull().sum())\n",
        "#Com base nos resultados, não há indicação de valores ausentes"
      ],
      "metadata": {
        "id": "CGtC9yGpzDCi"
      },
      "execution_count": null,
      "outputs": []
    },
    {
      "cell_type": "code",
      "source": [
        "#Verificando se há dados duplicados\n",
        "print(df_covid_2020.duplicated())\n",
        "print(df_covid_2021.duplicated())\n",
        "print(df_covid_2022.duplicated())\n",
        "print(df_covid_2023.duplicated())\n",
        "#Com base nos resultados, não há dados duplicados"
      ],
      "metadata": {
        "id": "iF83hAEhzIDZ"
      },
      "execution_count": null,
      "outputs": []
    },
    {
      "cell_type": "code",
      "source": [
        "#Limpeza\n",
        "#2020\n",
        "df_limpo_2020 = df_covid_2020[(df_covid_2020['state'] != 'TOTAL') & (df_covid_2020['city'] != 'TOTAL')]\n",
        "df_covid19_2020 = df_limpo_2020.drop(columns=['ibgeID'])\n",
        "\n",
        "#2021\n",
        "df_limpo_2021 = df_covid_2021[(df_covid_2021['state'] != 'TOTAL') & (df_covid_2021['city'] != 'TOTAL')]\n",
        "df_covid19_2021 = df_limpo_2021.drop(columns=['ibgeID'])\n",
        "\n",
        "#2022\n",
        "df_limpo_2022 = df_covid_2022[(df_covid_2022['state'] != 'TOTAL') & (df_covid_2022['city'] != 'TOTAL')]\n",
        "df_covid19_2022 = df_limpo_2022.drop(columns=['ibgeID'])\n",
        "\n",
        "#2023\n",
        "df_limpo_2023 = df_covid_2023[(df_covid_2023['state'] != 'TOTAL') & (df_covid_2020['city'] != 'TOTAL')]\n",
        "df_covid19_2023 = df_limpo_2023.drop(columns=['ibgeID'])"
      ],
      "metadata": {
        "id": "NZELT-JwzL0-"
      },
      "execution_count": null,
      "outputs": []
    },
    {
      "cell_type": "code",
      "source": [
        "#Total de casos\n",
        "#2020\n",
        "total_cases_2020 = df_covid19_2020['newCases'].sum()\n",
        "print(\"O total de casos em 2020 foram de:\", total_cases_2020)\n",
        "\n",
        "#2021\n",
        "total_cases_2021 = df_covid19_2021['newCases'].sum()\n",
        "print(\"O total de casos em 2021 foram de:\", total_cases_2021)\n",
        "\n",
        "#2022\n",
        "total_cases_2022 = df_covid19_2022['newCases'].sum()\n",
        "print(\"O total de casos em 2022 foram de:\", total_cases_2022)\n",
        "\n",
        "#2023\n",
        "total_cases_2023 = df_covid19_2023['newCases'].sum()\n",
        "print(\"O total de casos em 2023 foram de:\", total_cases_2023)"
      ],
      "metadata": {
        "id": "OmH9X1FV0O2H"
      },
      "execution_count": null,
      "outputs": []
    },
    {
      "cell_type": "code",
      "source": [
        "#Gráfico do total de casos\n",
        "def formatar_milhoes(x, pos):\n",
        "    return '{:.1f}M'.format(x * 1e-6)\n",
        "\n",
        "anos = [2020, 2021, 2022, 2023]\n",
        "total_cases = [total_cases_2020, total_cases_2021, total_cases_2022, total_cases_2023]\n",
        "\n",
        "coeficientes = np.polyfit(anos, total_cases, 1)\n",
        "regressao = np.poly1d(coeficientes)\n",
        "\n",
        "plt.figure(figsize=(10, 6))\n",
        "plt.bar(anos, total_cases, color='skyblue', label='Total de casos')\n",
        "\n",
        "plt.plot(anos, regressao(anos), color='red', linestyle='--', label='Regressão')\n",
        "\n",
        "plt.gca().yaxis.set_major_formatter(FuncFormatter(formatar_milhoes))\n",
        "\n",
        "plt.xticks(anos)\n",
        "\n",
        "plt.xlabel('Ano')\n",
        "plt.ylabel('Total de casos')\n",
        "plt.title('Total de casos de COVID-19 por ano')\n",
        "\n",
        "plt.show()"
      ],
      "metadata": {
        "id": "QyEUj-AQ0ILj"
      },
      "execution_count": null,
      "outputs": []
    },
    {
      "cell_type": "code",
      "source": [
        "#Média\n",
        "#2020\n",
        "media_2020 = df_covid19_2020['newCases'].mean()\n",
        "media_formatada_2020 = '{:.2f}'.format(media_2020)\n",
        "print(\"A média de casos por dia no ano de 2020 foi de:\", media_formatada_2020)\n",
        "\n",
        "#2021\n",
        "media_2021 = df_covid19_2021['newCases'].mean()\n",
        "media_formatada_2021 = '{:.2f}'.format(media_2021)\n",
        "print(\"A média de casos por dia no ano de 2021 foi de:\", media_formatada_2021)\n",
        "\n",
        "#2022\n",
        "media_2022 = df_covid19_2022['newCases'].mean()\n",
        "media_formatada_2022 = '{:.2f}'.format(media_2022)\n",
        "print(\"A média de casos por dia no ano de 2020 foi de:\", media_formatada_2022)\n",
        "\n",
        "#2023\n",
        "media_2023 = df_covid19_2023['newCases'].mean()\n",
        "media_formatada_2023 = '{:.2f}'.format(media_2023)\n",
        "print(\"A média de casos por dia no ano de 2020 foi de:\", media_formatada_2023)"
      ],
      "metadata": {
        "id": "-wdQTmGE1azf"
      },
      "execution_count": null,
      "outputs": []
    },
    {
      "cell_type": "code",
      "source": [
        "#Gráfico da Média\n",
        "anos = [2020, 2021, 2022, 2023]\n",
        "medias = [media_2020, media_2021, media_2022, media_2023]\n",
        "\n",
        "media_movel = np.convolve(medias, np.ones(3)/3, mode='valid')\n",
        "anos_media_movel = anos[1:-1]\n",
        "\n",
        "plt.figure(figsize=(10, 6))\n",
        "plt.plot(anos_media_movel, media_movel, marker='o', linestyle='-', label='Média Móvel (janela=3)')\n",
        "plt.plot(anos, medias, marker='o', linestyle='-', label='Dados Originais')\n",
        "\n",
        "plt.xlabel('Ano')\n",
        "plt.ylabel('Média de casos por dia')\n",
        "plt.title('Tendência Temporal da Média de Casos por Dia')\n",
        "plt.grid(True)\n",
        "plt.show()"
      ],
      "metadata": {
        "id": "P1G4c2166ME5"
      },
      "execution_count": null,
      "outputs": []
    },
    {
      "cell_type": "code",
      "source": [
        "#Variância\n",
        "#2020\n",
        "variancia_2020 = df_covid19_2020['newCases'].var()\n",
        "variancia_formatada_2020 = '{:.2f}'.format(variancia_2020)\n",
        "print(\"A variância do ano de 2020 foi de:\", variancia_formatada_2020)\n",
        "\n",
        "#2021\n",
        "variancia_2021 = df_covid19_2021['newCases'].var()\n",
        "variancia_formatada_2021 = '{:.2f}'.format(variancia_2021)\n",
        "print(\"A variância do ano de 2021 foi de:\", variancia_formatada_2021)\n",
        "\n",
        "#2022\n",
        "variancia_2022 = df_covid19_2022['newCases'].var()\n",
        "variancia_formatada_2022 = '{:.2f}'.format(variancia_2022)\n",
        "print(\"A variância do ano de 2022 foi de:\", variancia_formatada_2022)\n",
        "\n",
        "#2023\n",
        "variancia_2023 = df_covid19_2023['newCases'].var()\n",
        "variancia_formatada_2023 = '{:.2f}'.format(variancia_2023)\n",
        "print(\"A variância do ano de 2020 foi de:\", variancia_formatada_2023)"
      ],
      "metadata": {
        "id": "2-SDpYGX-Ab-"
      },
      "execution_count": null,
      "outputs": []
    },
    {
      "cell_type": "code",
      "source": [
        "anos = ['2020', '2021', '2022', '2023']\n",
        "variancias = [variancia_2020/10, variancia_2021/10, variancia_2022/10, variancia_2023/10]\n",
        "\n",
        "plt.figure(figsize=(10, 6))\n",
        "plt.plot(anos, variancias, marker='o', linestyle='-', color='skyblue')\n",
        "\n",
        "plt.xlabel('Ano')\n",
        "plt.ylabel('Variância')\n",
        "plt.title('Variância dos Casos de COVID-19 por Ano')\n",
        "plt.grid(True)\n",
        "plt.show()"
      ],
      "metadata": {
        "id": "WQzV0pPXI9bs"
      },
      "execution_count": null,
      "outputs": []
    },
    {
      "cell_type": "code",
      "source": [
        "#Desvio Padrão\n",
        "#2020\n",
        "desvio_padrao_2020 = df_covid_2020['newCases'].std()\n",
        "desvio_formatado_2020 = '{:.2f}'.format(desvio_padrao_2020)\n",
        "print(\"O desvio padrão do ano de 2020 foi:\", desvio_formatado_2020)\n",
        "\n",
        "#2021\n",
        "desvio_padrao_2021 = df_covid_2021['newCases'].std()\n",
        "desvio_formatado_2021 = '{:.2f}'.format(desvio_padrao_2021)\n",
        "print(\"O desvio padrão do ano de 2021 foi:\", desvio_formatado_2021)\n",
        "\n",
        "#2022\n",
        "desvio_padrao_2022 = df_covid_2022['newCases'].std()\n",
        "desvio_formatado_2022 = '{:.2f}'.format(desvio_padrao_2022)\n",
        "print(\"O desvio padrão do ano de 2022 foi:\", desvio_formatado_2022)\n",
        "\n",
        "#2023\n",
        "desvio_padrao_2023 = df_covid_2023['newCases'].std()\n",
        "desvio_formatado_2023 = '{:.2f}'.format(desvio_padrao_2023)\n",
        "print(\"O desvio padrão do ano de 2023 foi:\", desvio_formatado_2023)"
      ],
      "metadata": {
        "id": "J3DVssf0LN0f"
      },
      "execution_count": null,
      "outputs": []
    },
    {
      "cell_type": "code",
      "source": [
        "#Gráfico Desvio Padrão\n",
        "desvios_padrao = [desvio_padrao_2020, desvio_padrao_2021, desvio_padrao_2022, desvio_padrao_2023]\n",
        "anos = ['2020', '2021', '2022', '2023']\n",
        "\n",
        "plt.figure(figsize=(10, 6))\n",
        "plt.bar(anos, desvios_padrao, color='skyblue', edgecolor='black', alpha=0.7)\n",
        "\n",
        "plt.xlabel('Ano')\n",
        "plt.ylabel('Desvio Padrão')\n",
        "plt.title('Desvio Padrão dos Casos de COVID-19 por Ano')\n",
        "\n",
        "plt.show()"
      ],
      "metadata": {
        "id": "mK8cSPAkMiEi"
      },
      "execution_count": null,
      "outputs": []
    },
    {
      "cell_type": "code",
      "source": [
        "#Estados\n",
        "#2020\n",
        "soma_por_estado_2020 = df_covid19_2020.groupby('state')['newCases'].sum()\n",
        "print(soma_por_estado_2020)\n",
        "\n",
        "#2021\n",
        "soma_por_estado_2021 = df_covid19_2021.groupby('state')['newCases'].sum()\n",
        "print(soma_por_estado_2021)\n",
        "\n",
        "#2022\n",
        "soma_por_estado_2022 = df_covid19_2022.groupby('state')['newCases'].sum()\n",
        "print(soma_por_estado_2022)\n",
        "\n",
        "#2023\n",
        "soma_por_estado_2023 = df_covid19_2023.groupby('state')['newCases'].sum()\n",
        "print(soma_por_estado_2023)"
      ],
      "metadata": {
        "id": "pISEH2OhRJ5X"
      },
      "execution_count": null,
      "outputs": []
    },
    {
      "cell_type": "code",
      "source": [
        "#Gráfico 2020\n",
        "soma_por_estado_2020 = df_covid19_2020.groupby('state')['newCases'].sum()\n",
        "\n",
        "plt.figure(figsize=(15, 9))\n",
        "ax = soma_por_estado.plot(kind='bar', color='skyblue')\n",
        "plt.xlabel('Estado')\n",
        "plt.ylabel('Número de casos')\n",
        "plt.title('Número de casos de COVID-19 por estado em 2020')\n",
        "plt.grid(axis='y')\n",
        "\n",
        "ax.set_xticklabels(ax.get_xticklabels(), rotation=45, ha='right')\n",
        "\n",
        "plt.show()"
      ],
      "metadata": {
        "id": "IQGJsmO6Svzp"
      },
      "execution_count": null,
      "outputs": []
    },
    {
      "cell_type": "code",
      "source": [
        "#Gráfico 2021\n",
        "soma_por_estado_2021 = df_covid19_2021.groupby('state')['newCases'].sum()\n",
        "\n",
        "plt.figure(figsize=(15, 9))\n",
        "ax = soma_por_estado.plot(kind='bar', color='skyblue')\n",
        "plt.xlabel('Estado')\n",
        "plt.ylabel('Número de casos')\n",
        "plt.title('Número de casos de COVID-19 por estado em 2021')\n",
        "plt.grid(axis='y')\n",
        "\n",
        "ax.set_xticklabels(ax.get_xticklabels(), rotation=45, ha='right')\n",
        "\n",
        "plt.show()"
      ],
      "metadata": {
        "id": "HEtwVP8dV-Qe"
      },
      "execution_count": null,
      "outputs": []
    },
    {
      "cell_type": "code",
      "source": [
        "#Gráfico 2022\n",
        "soma_por_estado_2022 = df_covid19_2022.groupby('state')['newCases'].sum()\n",
        "\n",
        "plt.figure(figsize=(15, 9))\n",
        "ax = soma_por_estado.plot(kind='bar', color='skyblue')\n",
        "plt.xlabel('Estado')\n",
        "plt.ylabel('Número de casos')\n",
        "plt.title('Número de casos de COVID-19 por estado em 2022')\n",
        "plt.grid(axis='y')\n",
        "\n",
        "ax.set_xticklabels(ax.get_xticklabels(), rotation=45, ha='right')\n",
        "\n",
        "plt.show()"
      ],
      "metadata": {
        "id": "Jy-bJPQJWfCI"
      },
      "execution_count": null,
      "outputs": []
    },
    {
      "cell_type": "code",
      "source": [
        "#Gráfico 2023\n",
        "soma_por_estado_2023 = df_covid19_2023.groupby('state')['newCases'].sum() / 10\n",
        "\n",
        "plt.figure(figsize=(15, 9))\n",
        "ax = soma_por_estado_2023.plot(kind='bar', color='skyblue')\n",
        "plt.xlabel('Estado')\n",
        "plt.ylabel('Número de casos')\n",
        "plt.title('Número de casos de COVID-19 por estado em 2023')\n",
        "plt.grid(axis='y')\n",
        "\n",
        "ax.set_xticklabels(ax.get_xticklabels(), rotation=45, ha='right')\n",
        "\n",
        "plt.show()\n"
      ],
      "metadata": {
        "id": "8jP4goQkWrAI"
      },
      "execution_count": null,
      "outputs": []
    }
  ]
}